{
 "cells": [
  {
   "cell_type": "markdown",
   "id": "8c0c9a02-80b4-407e-8a01-d9ad83ac1f56",
   "metadata": {},
   "source": [
    "---\n",
    "title: MySQL and phpMyAdmin on Docker\n",
    "---"
   ]
  },
  {
   "cell_type": "markdown",
   "id": "5791a339-7b24-4b9b-9fbc-17f56a79bd52",
   "metadata": {},
   "source": [
    "![011_001.png](assets/images/011_001.png)\n",
    "*Figure 1. Logos for MySQL, phpMyAdmin and Docker*"
   ]
  },
  {
   "cell_type": "markdown",
   "id": "c1ebbc2a",
   "metadata": {},
   "source": [
    "[Previously](https://andrewyewcy.com/Systematically-Web-Scrape-Multiple-Data-Files-from-Websites/), the bicycle rides data from Bixi were web-sraped and stored locally. To store the data, we explore how to set up MySQL and phpMyAdmin using Docker containers without installing MySQL, phpMyAdmin, and their dependencies locally."
   ]
  },
  {
   "cell_type": "markdown",
   "id": "68f0d668-d29c-4d35-a53f-c4384d03cb76",
   "metadata": {},
   "source": [
    "Table of Contents:            \n",
    "- [Motivation and Introduction](#Motivation-and-Introduction)\n",
    "  - [What are the tools and why?](#What-are-the-tools-and-why?)\n",
    "  - [Why store the data in a database using DBMS?](#Why-store-the-data-in-a-database-using-DBMS?)\n",
    "  - [Wait, isn't Docker for Software Development?](#Wait,-isn't-Docker-for-Software-Development?)\n",
    "- [Overview of Setup](#Overview-of-Setup)\n",
    "  - [Requirements](#Requirements)\n",
    "  - [Notes on Image Version](#Notes-on-Image-Version)\n",
    "- [Deployment of DBMS Setup using Docker-compose](#Deployment-of-DBMS-Setup-using-Docker-compose)\n",
    "- [Conclusion and Next Steps](#Conclusion-and-Next-Steps)\n",
    "- [Appendix](#Appendix)\n",
    "  - [A01 Install Docker and Ensure it is running](#A01-Install-Docker-and-Ensure-it-is-running)\n",
    "  - [A02 Pull Images from Docker Hub](#A02-Pull-Images-from-Docker-Hub)\n",
    "  - [A03 Creating a Network to run Containers](#A03-Creating-a-Network-to-run-Containers)\n",
    "  - [A04 Create Docker Containers from Images](#A04-Create-Docker-Containers-from-Images)\n",
    "  - [A05 Use phpMyAdmin to Access MySQL](#A05-Use-phpMyAdmin-to-Access-MySQL)\n",
    "  - [A06 Packaging Commands into Docker-compose](#A06-Packaging-Commands-into-Docker-compose)\n",
    "- [References and Acknowledgements](#References-and-Acknowledgements)"
   ]
  },
  {
   "cell_type": "markdown",
   "id": "25bff17a",
   "metadata": {},
   "source": [
    "# Motivation and Introduction"
   ]
  },
  {
   "cell_type": "markdown",
   "id": "418e91de",
   "metadata": {},
   "source": [
    "## What are the tools and why?"
   ]
  },
  {
   "cell_type": "markdown",
   "id": "ad171789",
   "metadata": {},
   "source": [
    "**[MySQL](https://www.mysql.com/)**\n",
    "- MySQL is an open-source relational database management system. Although not the latest, it is one of the world's most [popular](https://hub.docker.com/_/mysql) DBMS.\n",
    "\n",
    "**[phpMyAdmin](https://www.phpmyadmin.net/)**\n",
    "- Without a user interface, MySQL can only be interacted with through Terminal (or PowerShell and Command Prompt depending on OS). phpMyAdmin addresses this problem by being an open-source portable web application that acts as an administration tool for MySQL. An alternative would be [MySQL Workbench](https://www.mysql.com/products/workbench/), but that requires installation on local machine and defeats the purpose of using Docker.\n",
    "\n",
    "**[Docker](https://www.docker.com/)**\n",
    "- Docker is a tool that packages software into containers independent of the local system. Docker was used to run MySQL and phpMyAdmin on the local computer without installation, and can be used to package the entire setup in the future. Read here for more details on [Docker](https://www.docker.com/resources/what-container/#:~:text=A%20Docker%20container%20image%20is,tools%2C%20system%20libraries%20and%20settings.)."
   ]
  },
  {
   "cell_type": "markdown",
   "id": "8e519d7e",
   "metadata": {},
   "source": [
    "## Why store the data in a database using DBMS?"
   ]
  },
  {
   "cell_type": "markdown",
   "id": "e9008452",
   "metadata": {},
   "source": [
    "**Consolidation**\n",
    "- The web-scraped data is stored across multiple Comma Separated Value (CSV) files, which makes it more difficult to access all the data since the data files must be loaded individually from each CSV and combined before use.\n",
    "\n",
    "\n",
    "**Tracking**\n",
    "- With change being the only constant, no data is expected to be perfect or clean. Using a database with a database management system (DBMS) like MySQL allows for logging and tracking of updates to data.\n",
    "\n",
    "\n",
    "**Structure, Relationships and Normalization**\n",
    "- On top of being a DBMS, MySQL is also a relational DBMS, meaning that different data tables can be connected through specified relationships between columns. For example, a bicycle docking station can store many bicycles. Furthermore, large data tables (many columns) can be broken down into smaller tables which are connected through relationships. This is known as normalization and the benefits include smaller data tables and data completenss.\n",
    "\n",
    "\n",
    "**Data Authority, Sharing and Security**\n",
    "- Rather than sending the data files through email, other users can access the same consolidated data stored in a database. This reduces the risks of having multiple copies (truths) of data among users, which causes confusion and may lead to wasted time or even wrongly justified decision making. Finally, MySQL also provides a way to manage access levels to data among users."
   ]
  },
  {
   "cell_type": "markdown",
   "id": "5b9cc55f",
   "metadata": {},
   "source": [
    "## Wait, isn't Docker for Software Development?\n",
    "\n",
    "The ability to containerize applications provided by Docker is useful in the field of data science in the following manner:\n",
    "\n",
    "**Ease of Installation**\n",
    "- Using Docker containers avoids the need to install MySQL and all its dependencies on your local computer. Instead of spending hours installing and configuring MySQL to work with phpMyAdmin over many computers, using Docker containers allows users to get MySQL running with phpMyAdmin in less than 5 minutes consistently across many computers.\n",
    "- Docker is also useful when setting up specific environments for machine learning to be shared among colleagues, and is even more so when bringing the trained models to production in the cloud.\n",
    "\n",
    "**Sharing and Scaling**\n",
    "- In the world of big data, the data size is usually too large to store in any single computer. Docker containers allow users to transition their containerized DBMS and volumes onto the cloud, skipping the hassle of reconfiguring setup to match cloud specifications.\n",
    "\n",
    "**Operations and Modularization**\n",
    "- Containerized applications can be easily updated or replaced with another container if the current one fails. This means that the entire operations process of DBMS deployment can be modularized into independent components. Individual components (containers) can be replaced without the need to rebuild all operations, reducing database downtime."
   ]
  },
  {
   "cell_type": "markdown",
   "id": "a52b59a0",
   "metadata": {},
   "source": [
    "# Overview of Setup"
   ]
  },
  {
   "attachments": {},
   "cell_type": "markdown",
   "id": "c5eb614f",
   "metadata": {},
   "source": [
    "![011_002.png](assets/images/011_002.png)\n",
    "*Figure 2. Overview of Setup*"
   ]
  },
  {
   "cell_type": "markdown",
   "id": "aeecc9ce",
   "metadata": {},
   "source": [
    "The image above represents an overview of the DBMS setup. The containers with red caps represent Docker containers running MySQL and phpMyAdmin Docker images. Both the MySQL and phpMyAdmin containers can communicate with each other because they exist in a Docker network, represented by the cloud. The actual data is stored outside the cloud in a data warehouse, which in this case is just the local computer. Note that in the data warehouse, data is stored as Docker volumes, which can be pushed and scaled on cloud services like AWS. The cleaned raw data is ingested through MySQL and stored in the data warehouse. Finally, dashboards and machine learning can access the data through MySQL in the Docker network."
   ]
  },
  {
   "cell_type": "markdown",
   "id": "6e5daf48",
   "metadata": {},
   "source": [
    "## Requirements"
   ]
  },
  {
   "cell_type": "markdown",
   "id": "f5e8eb3a",
   "metadata": {},
   "source": [
    "To run the above setup, you will need:\n",
    "- Docker [installed](https://docs.docker.com/get-docker/) on your local computer\n",
    "- Terminal to access Docker\n",
    "- a web browser, Google Chrome was used in this article\n",
    "- (optional) a code editor for writing Docker-compose script, [VSCodium](https://vscodium.com/) was used"
   ]
  },
  {
   "cell_type": "markdown",
   "id": "068a28c3",
   "metadata": {},
   "source": [
    "## Notes on Image Version"
   ]
  },
  {
   "cell_type": "markdown",
   "id": "c24227c8",
   "metadata": {},
   "source": [
    "For this example, MySQL was specified with the version 8.0 tag on [Docker Hub](https://hub.docker.com/_/mysql), a public repository for docker images which are used to build Docker containers. Similarly, phpMyAdmin was also pulled from [Docker Hub](https://hub.docker.com/_/phpmyadmin), with version 5.2 specified.\n",
    "\n",
    "Note, Docker images pulled from Docker Hub become Docker containers when they are run on Docker Engine, all of which runs on the local machine. ([Read more here](https://www.docker.com/resources/what-container/)) What this implies practically is that Docker containers are still dependent on the CPU of the local host, meaning that some Docker images which were built to run on Intel chips may not work on the newer ARM chips like Apple’s M1 and M2. However, many Docker images are being or have already been updated to run on ARM chips at the time of this article. This is usually specified on the Docker Hub page of the desired image."
   ]
  },
  {
   "cell_type": "markdown",
   "id": "f4858c5f",
   "metadata": {},
   "source": [
    "# Deployment of DBMS Setup using Docker-compose"
   ]
  },
  {
   "cell_type": "markdown",
   "id": "1f4c9be2",
   "metadata": {},
   "source": [
    "The first step is to create a Docker-compose script that tells Docker what containers to setup. \n",
    "Once defined, Docker-compose automatically handles:\n",
    "- the pulling of Docker images from Docker Hub\n",
    "- the creation of a Docker network\n",
    "- the creation of Docker containers from Docker images within the Docker network\n",
    "- the connection between Docker containers within the network\n",
    "- the connection between the Docker containers to volumes outside the network. \n",
    "\n",
    "The Docker-compose script is written as a [YAML](https://en.wikipedia.org/wiki/YAML) file, which is a human readable data serialization language. A GitHub repo for the script can be found [here](https://github.com/andrewyewcy/docker/blob/main/mysql.yaml).\n",
    "\n",
    "The script is included below with explanations for each line of code."
   ]
  },
  {
   "cell_type": "code",
   "execution_count": null,
   "id": "5d88fcfb",
   "metadata": {},
   "outputs": [],
   "source": [
    "# Specify version of docker-compose for backwards compatability\n",
    "version: '3.8'\n",
    "\n",
    "# Define services (docker containers) to run\n",
    "services:\n",
    "  \n",
    "  # Define a container named mysql to run MySQL DBMS\n",
    "  mysql:\n",
    "\n",
    "    # Specify image tag to reference, refer to Docker Hub https://hub.docker.com/_/mysql\n",
    "    image: mysql:8.0\n",
    "\n",
    "    # Tells Docker to restart container if fail\n",
    "    restart: always\n",
    "\n",
    "    # Define environment variables, different for each image\n",
    "    environment:\n",
    "      # rootroot was used in this case as an example\n",
    "      MYSQL_ROOT_PASSWORD: rootroot\n",
    "\n",
    "    # Define ports for communication between host (left) and container(right)\n",
    "    ports:\n",
    "      - '3306:3306'\n",
    "\n",
    "    # Define volumne to write data to for data persistence when container restarts\n",
    "    # Local host directory (left) : directory in container (right)\n",
    "    volumes:\n",
    "      - mysql_db_data:/var/lib/mysql\n",
    "\n",
    "  # Define a container to run phpMyAdmin\n",
    "  phpmyadmin:\n",
    "\n",
    "    # Specify phpmyadmin to run after mysql has started\n",
    "    depends_on:\n",
    "      - mysql\n",
    "\n",
    "    # Specify image tag to reference, refer to Docker Hub https://hub.docker.com/_/phpmyadmin\n",
    "    image: phpmyadmin:5.2\n",
    "\n",
    "    # Tells Docker to restart container if fail\n",
    "    restart: always\n",
    "\n",
    "    # Define ports for communication between host (left) and container(right)\n",
    "    ports:\n",
    "      - '8080:80'\n",
    "\n",
    "    # Define link from mysql container to phpmyadmin container\n",
    "    links:\n",
    "      - mysql:db\n",
    "\n",
    "# Define Docker volumes to store data\n",
    "volumes:\n",
    "\n",
    "  # Specify volume name\n",
    "  mysql_db_data:\n",
    "\n",
    "    # Tells docker that volume is stored on local computer\n",
    "    driver: local"
   ]
  },
  {
   "cell_type": "markdown",
   "id": "1086392d",
   "metadata": {},
   "source": [
    "Now that the Docker-compose script is defined, the beauty of using Docker is that the entire MySQL and phpMyAdmin setup can be executed in 1 line of code as shown below:"
   ]
  },
  {
   "cell_type": "code",
   "execution_count": null,
   "id": "d0c46cab",
   "metadata": {},
   "outputs": [],
   "source": [
    "# Run below line in terminal, make sure you are in same directory as YAML file\n",
    "docker-compose -f mysql.yaml up"
   ]
  },
  {
   "attachments": {},
   "cell_type": "markdown",
   "id": "0823e4d5",
   "metadata": {},
   "source": [
    "![011_003.png](assets/images/011_003.png)\n",
    "*Figure 3. Running docker-compose files in terminal*"
   ]
  },
  {
   "cell_type": "markdown",
   "id": "f85596cb",
   "metadata": {},
   "source": [
    "Once the docker network and containers are up and running, type the following path into a web browser of your choice to access phpMyAdmin."
   ]
  },
  {
   "cell_type": "code",
   "execution_count": null,
   "id": "4c8eb980",
   "metadata": {},
   "outputs": [],
   "source": [
    "# Note, the port 8080 was specified in the YAML file and can be changed accordingly in case of port conflict\n",
    "http://localhost:8080/"
   ]
  },
  {
   "attachments": {},
   "cell_type": "markdown",
   "id": "9d9abeea",
   "metadata": {},
   "source": [
    "![011_004.png](assets/images/011_004.png)\n",
    "*Figure 4. Testing access to phpMyAdmin*"
   ]
  },
  {
   "cell_type": "markdown",
   "id": "02bd56d4",
   "metadata": {},
   "source": [
    "Finally, when done, the entire setup can be shut down using the down command, which automatically shuts down and removes the Docker containers and network. The databases and data are stored in the specified Docker volume in the YAML file, and is persistent when the Docker-compose YAML file is initiated again."
   ]
  },
  {
   "cell_type": "code",
   "execution_count": null,
   "id": "970318c3",
   "metadata": {},
   "outputs": [],
   "source": [
    "# Run below line in terminal, make sure you are in same directory as YAML file\n",
    "docker-compose -f mysql.yaml down"
   ]
  },
  {
   "cell_type": "markdown",
   "id": "ef9a5a8b",
   "metadata": {},
   "source": [
    "# Conclusion and Next Steps"
   ]
  },
  {
   "cell_type": "markdown",
   "id": "7eb7ba98",
   "metadata": {},
   "source": [
    "In this article, we explored how Docker containers can be used to conveniently setup MySQL and phpMyAdmin on a local computer without the need to deal with installation and dependencies. For now, the data is stored on the local computer but in the future when more data is acquired, the entire Docker setup can be packaged on hosted on cloud services like AWS, enabling scalability. In the next article, the Bixi rides data is loaded into the setup database for further cleaning and use in analysis, visualizations and machine learning models."
   ]
  },
  {
   "cell_type": "markdown",
   "id": "0710569e",
   "metadata": {},
   "source": [
    "# Appendix"
   ]
  },
  {
   "cell_type": "markdown",
   "id": "3610614f",
   "metadata": {},
   "source": [
    "Here we will explore the step by step progression of building the docker-compose YAML file starting from basic commands."
   ]
  },
  {
   "cell_type": "markdown",
   "id": "14a35bfb",
   "metadata": {},
   "source": [
    "## A01 Install Docker and Ensure it is running"
   ]
  },
  {
   "cell_type": "markdown",
   "id": "7f5d7f9e",
   "metadata": {},
   "source": [
    "Docker can be installed using instructions [here](https://docs.docker.com/get-docker/).\n",
    "\n",
    "Then, Docker can be verified to be running through below methods:\n",
    "1) visible Desktop icon of Docker:"
   ]
  },
  {
   "attachments": {},
   "cell_type": "markdown",
   "id": "98c14d90",
   "metadata": {},
   "source": [
    "![011_005.png](assets/images/011_005.png)\n",
    "*Figure 5. Visible Desktop icon of Docker*"
   ]
  },
  {
   "cell_type": "markdown",
   "id": "4098bb0f",
   "metadata": {},
   "source": [
    "2) Using terminal:"
   ]
  },
  {
   "cell_type": "code",
   "execution_count": null,
   "id": "092bdeb7",
   "metadata": {},
   "outputs": [],
   "source": [
    "# Input below to verify both Docker client and server(Engine) are running\n",
    "docker version"
   ]
  },
  {
   "attachments": {},
   "cell_type": "markdown",
   "id": "2e5fc3c0",
   "metadata": {},
   "source": [
    "![011_006.png](assets/images/011_006.png)\n",
    "*Figure 6. Verify Version of Docker*"
   ]
  },
  {
   "cell_type": "markdown",
   "id": "3ae6f4ae",
   "metadata": {},
   "source": [
    "## A02 Pull Images from Docker Hub"
   ]
  },
  {
   "cell_type": "markdown",
   "id": "855aa698",
   "metadata": {},
   "source": [
    "A benefit of Docker is that the large community base and companies have already constructed and uploaded ready-to-use Docker images on Docker Hub. Each image may contain instructions specific to the image. The images used in this article are:\n",
    "- [MySQL](https://hub.docker.com/_/mysql), version 8.0 was used\n",
    "- [phpMyAdmin](https://hub.docker.com/_/phpmyadmin), version 5.2 was used"
   ]
  },
  {
   "cell_type": "markdown",
   "id": "6f68963f",
   "metadata": {},
   "source": [
    "The images can be pulled using the Docker `pull` command:"
   ]
  },
  {
   "cell_type": "code",
   "execution_count": null,
   "id": "af564f0c",
   "metadata": {},
   "outputs": [],
   "source": [
    "# If unspecified, the latest version of the image will be pulled\n",
    "# Specify version after the ':' symbol\n",
    "docker pull mysql:8.0\n",
    "docker pull phpmyadmin:5.2"
   ]
  },
  {
   "attachments": {},
   "cell_type": "markdown",
   "id": "f214ac40",
   "metadata": {},
   "source": [
    "![011_007.png](assets/images/011_007.png)\n",
    "*Figure 7. Pulling Docker images*"
   ]
  },
  {
   "cell_type": "markdown",
   "id": "069c8b3d",
   "metadata": {},
   "source": [
    "To check if images are pulled, the `ls` command can be chained with the `image` command:"
   ]
  },
  {
   "cell_type": "code",
   "execution_count": null,
   "id": "ef113b7d",
   "metadata": {},
   "outputs": [],
   "source": [
    "# Check pulled (downloaded) images\n",
    "docker image ls"
   ]
  },
  {
   "attachments": {},
   "cell_type": "markdown",
   "id": "1f7a95de",
   "metadata": {},
   "source": [
    "![011_008.png](assets/images/011_008.png)\n",
    "*Figure 8. Checking Pulled Docker Images*"
   ]
  },
  {
   "cell_type": "markdown",
   "id": "f48db913",
   "metadata": {},
   "source": [
    "## A03 Creating a Network to run Containers"
   ]
  },
  {
   "cell_type": "markdown",
   "id": "ad33de8e",
   "metadata": {},
   "source": [
    "To enable the MySQL and phpMyAdmin containers to communicate effectively with each other, the `create` command can be chained with the `network` command:"
   ]
  },
  {
   "cell_type": "code",
   "execution_count": null,
   "id": "2ed9660f",
   "metadata": {},
   "outputs": [],
   "source": [
    "# input the name of the network after `create`\n",
    "docker network create mysql_network\n",
    "\n",
    "# similar to images, use `ls` to check created networks\n",
    "docker network ls"
   ]
  },
  {
   "attachments": {},
   "cell_type": "markdown",
   "id": "9c579a29",
   "metadata": {},
   "source": [
    "![011_009.png](assets/images/011_009.png)\n",
    "*Figure 9. Creating a Docker Network*"
   ]
  },
  {
   "cell_type": "markdown",
   "id": "098a4d05",
   "metadata": {},
   "source": [
    "Along with the created network `mysql_network`, the other 3 networks are default Docker networks that should be left running."
   ]
  },
  {
   "cell_type": "markdown",
   "id": "4c97a9e7",
   "metadata": {},
   "source": [
    "## A04 Create Docker Containers from Images"
   ]
  },
  {
   "cell_type": "markdown",
   "id": "e96c7123",
   "metadata": {},
   "source": [
    "To create a Docker container within the network, the attribute `--net` may be specified in the `run` command. Note that the run command automatically pulls an image from Docker Hub if no local images were found."
   ]
  },
  {
   "cell_type": "code",
   "execution_count": null,
   "id": "cc8f2982",
   "metadata": {},
   "outputs": [],
   "source": [
    "# Docker run command to create a container in the network\n",
    "\n",
    "# run in detached mode, meaning that the terminal is left free to use, requires manual shut down\n",
    "docker run -d \\ \n",
    "\n",
    "# the name of the container, specified as 'mysql'\n",
    "--name mysql \\\n",
    "\n",
    "# environment variables, specific to each image\n",
    "-e MYSQL_ROOT_PASSWORD=rootroot \\\n",
    "\n",
    "# Docker network in which container should run\n",
    "--net mysql_network\n",
    "\n",
    "# The image to build a container from\n",
    "mysql:8.0"
   ]
  },
  {
   "attachments": {},
   "cell_type": "markdown",
   "id": "acc31eda",
   "metadata": {},
   "source": [
    "![011_010.png](assets/images/011_010.png)\n",
    "*Figure 10. Running a Container in detached mode*"
   ]
  },
  {
   "cell_type": "markdown",
   "id": "51ae7e84-0e3a-492f-856f-a8906af360d7",
   "metadata": {},
   "source": [
    "Unlike images and networks, to view docker containers, the `ps` command is used:"
   ]
  },
  {
   "cell_type": "code",
   "execution_count": null,
   "id": "e23e6e3c-9161-47ed-b0f4-6de508226f97",
   "metadata": {},
   "outputs": [],
   "source": [
    "# to show active containers\n",
    "docker ps\n",
    "\n",
    "# to show all containers, including inactive ones\n",
    "docker ps -a"
   ]
  },
  {
   "attachments": {},
   "cell_type": "markdown",
   "id": "0b63ff4b",
   "metadata": {},
   "source": [
    "![011_011.png](assets/images/011_011.png)\n",
    "*Figure 11. Check if container is running in detached mode*"
   ]
  },
  {
   "cell_type": "markdown",
   "id": "595b8cdb",
   "metadata": {},
   "source": [
    "To further verify if MySQL is running in the container, the exec command can be combined with `-it` to start an interactive terminal running within the container. Then, we can verify if MySQL is running by typing `mysql -V`:"
   ]
  },
  {
   "cell_type": "code",
   "execution_count": null,
   "id": "1d8296d4-2ad4-4a54-9912-fbf5bded5400",
   "metadata": {},
   "outputs": [],
   "source": [
    "# To open a terminal inside the container\n",
    "# -it stands for interactive\n",
    "# /bin/bash opens a bash terminal\n",
    "docker exec -it mysql /bin/bash\n",
    "\n",
    "# Check version of MySQL in container\n",
    "mysql -V"
   ]
  },
  {
   "attachments": {},
   "cell_type": "markdown",
   "id": "f06bab4f",
   "metadata": {},
   "source": [
    "![011_012.png](assets/images/011_012.png)\n",
    "*Figure 12. Verify MySQL version within Docker terminal*"
   ]
  },
  {
   "cell_type": "markdown",
   "id": "15f0a961-12fb-4597-a16b-20d40f79a038",
   "metadata": {},
   "source": [
    "A similar step can be performed for the phpMyAdmin container with the addition of two arguments, `--link` and `-p`:"
   ]
  },
  {
   "cell_type": "code",
   "execution_count": null,
   "id": "7bbb77c9-5a2a-470a-a957-8b0f80e3b422",
   "metadata": {},
   "outputs": [],
   "source": [
    "# Docker run coemmand to initialize phpmyAdmin container\n",
    "docker rund -d \\      # run in detached mode\n",
    "--name myphpadmin \\   # define container name to be phpmyadmin\n",
    "\n",
    "# specify the link between the previously created 'mysql' container to the 'db' port within phpmyadmin\n",
    "--link mysql:db \\ \n",
    "--net mysql_network \\ # specify docker network\n",
    "\n",
    "# specify port on local host (8080) to port in container (80)\n",
    "-p 8080:80 \\\n",
    "phpmyadmin:5.2        # image to build container from"
   ]
  },
  {
   "attachments": {},
   "cell_type": "markdown",
   "id": "646dd0fb",
   "metadata": {},
   "source": [
    "![011_013.png](assets/images/011_013.png)\n",
    "*Figure 13. Create a phpMyAdmin Container Running on the Same Network*"
   ]
  },
  {
   "cell_type": "markdown",
   "id": "0647f9f8-ab41-4dd2-88fd-9094b0845867",
   "metadata": {},
   "source": [
    "## A05 Use phpMyAdmin to Access MySQL"
   ]
  },
  {
   "cell_type": "markdown",
   "id": "de9e32df-2d7b-466f-8204-807db4d261a9",
   "metadata": {},
   "source": [
    "Previously we defined port 8080 as the entry point in the local machine to access port 80 in the phpMyAdmin container. Thus, inputing `localhost:8080` into a web browser will bring up the phpMyAdmin page, where the username is `root` and the password was defined as `rootroot`."
   ]
  },
  {
   "attachments": {},
   "cell_type": "markdown",
   "id": "502fd8d1",
   "metadata": {},
   "source": [
    "![011_014.png](assets/images/011_014.png)\n",
    "*Figure 14. Access phpMyAdmin on localhost:8080*"
   ]
  },
  {
   "cell_type": "markdown",
   "id": "0577563c-ed26-4fbf-adec-0927ab49abb7",
   "metadata": {},
   "source": [
    "After logging in, phpMyAdmin can be used to administer MySQL."
   ]
  },
  {
   "attachments": {},
   "cell_type": "markdown",
   "id": "f081d2bd",
   "metadata": {},
   "source": [
    "![011_015.png](assets/images/011_015.png)\n",
    "*Figure 15. Check phpMyAdmin Functionality*"
   ]
  },
  {
   "cell_type": "markdown",
   "id": "6353922f",
   "metadata": {},
   "source": [
    "## A06 Packaging Commands into Docker-compose"
   ]
  },
  {
   "cell_type": "markdown",
   "id": "c8859dea-65dc-4bdd-a52c-b490b303a666",
   "metadata": {},
   "source": [
    "The details behind each line of code within the Docker-compose YAML file was explained above and in this GitHub [repository](https://github.com/andrewyewcy/docker/blob/main/mysql.yaml). Two notable differences:\n",
    "\n",
    "- the network is automatically defined using Docker-compose\n",
    "- specifications for persistent data storage in a Docker volume are specified in the YAML file"
   ]
  },
  {
   "cell_type": "markdown",
   "id": "b1b2041a-5831-4e36-a623-3038e0b7691c",
   "metadata": {},
   "source": [
    "![011_016](assets/images/011_016.png)"
   ]
  },
  {
   "cell_type": "markdown",
   "id": "9cf4f9a4-e8c8-4fb7-8fd1-5c9526c372ce",
   "metadata": {},
   "source": [
    "# References and Acknowledgements"
   ]
  },
  {
   "cell_type": "markdown",
   "id": "4344b3ba-1e11-49fb-915e-1e569d780dca",
   "metadata": {},
   "source": [
    "- phpMyAdmin logo used in thumbnail: [phpMyAdmin](https://en.wikipedia.org/wiki/PhpMyAdmin#/media/File:PhpMyAdmin_logo.svg)\n",
    "\n",
    "- MySQL logo used in thumbnail: [MySQL](https://en.wikipedia.org/wiki/MySQL#/media/File:MySQL_logo.svg)\n",
    "\n",
    "- Docker logo used in thumbnail: [Docker](https://en.wikipedia.org/wiki/Docker_(software)#/media/File:Docker_logo.svg)\n",
    "\n",
    "- database icon used in setup overview diagram: <a href=\"https://www.flaticon.com/free-icons/database\" title=\"database icons\">Database icons created by phatplus - Flaticon</a>\n",
    "\n",
    "- dashboard icon used in setup overview diagram: <a href=\"https://www.flaticon.com/free-icons/dashboard\" title=\"dashboard icons\">Dashboard icons created by Eucalyp - Flaticon</a>\n",
    "\n",
    "- [Docker-compose for MySQL with phpMyAdmin](https://tecadmin.net/docker-compose-for-mysql-with-phpmyadmin/) by Rahul at TecAdmin.net\n",
    "\n",
    "- [MySQL + phpMyAdmin Docker Compose](https://dev.to/devkiran/mysql-phpmyadmin-docker-compose-54h7) by Kiran Krishnan\n",
    "- [MySQL Docker Hub Documentation](https://hub.docker.com/_/mysql)\n",
    "- [phpMyAdmin Docker Hub Documentation](https://hub.docker.com/_/phpmyadmin)\n",
    "- [Docker Tutorial for Beginners](https://www.youtube.com/watch?v=3c-iBn73dDE&ab_channel=TechWorldwithNana) by TechWorld with Nana"
   ]
  }
 ],
 "metadata": {
  "kernelspec": {
   "display_name": "Python 3 (ipykernel)",
   "language": "python",
   "name": "python3"
  },
  "language_info": {
   "codemirror_mode": {
    "name": "ipython",
    "version": 3
   },
   "file_extension": ".py",
   "mimetype": "text/x-python",
   "name": "python",
   "nbconvert_exporter": "python",
   "pygments_lexer": "ipython3",
   "version": "3.11.4"
  }
 },
 "nbformat": 4,
 "nbformat_minor": 5
}
