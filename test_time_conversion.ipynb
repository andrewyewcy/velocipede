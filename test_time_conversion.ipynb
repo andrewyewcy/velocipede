{
 "cells": [
  {
   "cell_type": "code",
   "execution_count": 2,
   "id": "047cddce-ffa4-444d-a3dc-11194f000e09",
   "metadata": {},
   "outputs": [],
   "source": [
    "import pandas as pd\n",
    "import pytz"
   ]
  },
  {
   "cell_type": "code",
   "execution_count": null,
   "id": "7ba103c4-3e5d-4c04-8edf-89ee9e6ca952",
   "metadata": {},
   "outputs": [],
   "source": [
    "[zone for zone in pytz.all_timezones if 'UTC' in zone]"
   ]
  },
  {
   "cell_type": "code",
   "execution_count": null,
   "id": "ba10c8a1-490f-4cbf-8953-1176218a55ec",
   "metadata": {},
   "outputs": [],
   "source": [
    "data_file = 'data/biximontrealrentals2014-f040e0/OD_2014-04.csv'"
   ]
  },
  {
   "cell_type": "code",
   "execution_count": null,
   "id": "2d73b4f9-e704-4241-a4ce-07060b6ccdde",
   "metadata": {},
   "outputs": [],
   "source": [
    "# https://stackoverflow.com/questions/25962114/how-do-i-read-a-large-csv-file-with-pandas\n",
    "df = pd.read_csv(data_file)"
   ]
  },
  {
   "cell_type": "code",
   "execution_count": null,
   "id": "be904535-5a07-4fee-8842-f101db78524f",
   "metadata": {},
   "outputs": [],
   "source": [
    "dtype = {\n",
    "    'start_station_code' : 'string',\n",
    "    'end_station_code'   : 'string',\n",
    "    'duration_sec'       : 'int',\n",
    "    'is_member'          : 'boolean'\n",
    "}"
   ]
  },
  {
   "cell_type": "code",
   "execution_count": null,
   "id": "28f5864c-5c99-443a-8a38-83d85ccc2176",
   "metadata": {},
   "outputs": [],
   "source": [
    "df = pd.read_csv(\n",
    "    data_file,\n",
    "    dtype = dtype,\n",
    "    parse_dates = ['start_date','end_date']\n",
    ")"
   ]
  },
  {
   "cell_type": "code",
   "execution_count": null,
   "id": "05ce24c2-9fdf-48a7-8b30-3a600bf3b57a",
   "metadata": {},
   "outputs": [],
   "source": [
    "tz = pytz.timezone('Canada/Eastern')\n",
    "dti = pd.to_datetime(df['start_date'], format = \"%Y-%m-%d %H:%M\").dt.tz_localize(tz = tz)\n",
    "\n",
    "dti#.tz_localize(pytz.timezone('EST5EDT'))"
   ]
  },
  {
   "cell_type": "code",
   "execution_count": null,
   "id": "921af9e8-d1fe-43dc-8060-0c47b2bb990e",
   "metadata": {},
   "outputs": [],
   "source": [
    "dti = dti.dt.tz_convert(tz = pytz.timezone('UTC'))\n",
    "\n",
    "dti"
   ]
  },
  {
   "cell_type": "code",
   "execution_count": null,
   "id": "c8060db2-a7ab-40df-ba11-cdc3fff32756",
   "metadata": {},
   "outputs": [],
   "source": [
    "dti.dt.tz_convert(tz = None)"
   ]
  },
  {
   "cell_type": "code",
   "execution_count": null,
   "id": "b6ebe3e9-a161-448a-8f57-3090386dd1aa",
   "metadata": {},
   "outputs": [],
   "source": [
    "\n",
    "join_table = pd.DataFrame()\n",
    "\n",
    "for index, folder in enumerate(folder_list):\n",
    "    \n",
    "    folder_contents = os.listdir('data/'+ folder)\n",
    "\n",
    "    stations_files = [file for file in folder_contents if 'station' in file.lower()]\n",
    "\n",
    "    rides_files = [file for file in folder_contents if file not in stations_files]\n",
    "\n",
    "    temp_df = pd.DataFrame({'rides_files':rides_files})\n",
    "    \n",
    "    if len(stations_files) == 1:\n",
    "        temp_df['station_files'] = stations_files[0]\n",
    "    else:\n",
    "        print(\"Check station file in folder {index + 1} : {folder}.\")\n",
    "\n",
    "    join_table = pd.concat(\n",
    "        [join_table,temp_df],\n",
    "        axis = 0,\n",
    "    ).reset_index(drop = True)\n",
    "\n",
    "    print(f'Processing folder {index+1} of {len(folder_list)}, folder: {folder}', end = '\\r')"
   ]
  },
  {
   "cell_type": "code",
   "execution_count": 1,
   "id": "1c3ee937-0272-4fd1-840d-aa16bf048066",
   "metadata": {},
   "outputs": [],
   "source": [
    "x_list = [1,2,3]"
   ]
  },
  {
   "cell_type": "code",
   "execution_count": null,
   "id": "990bfb29-c844-4a56-8e8f-f76a3c7d7d3e",
   "metadata": {},
   "outputs": [],
   "source": [
    "for index, x in enumerate(x_list):\n",
    "    print(f\"{index+1} / {len(enum}"
   ]
  },
  {
   "cell_type": "code",
   "execution_count": null,
   "id": "a5109673-605e-45fe-9e39-8a15e859ff4b",
   "metadata": {},
   "outputs": [],
   "source": [
    "# Create `stations` table\n",
    "with engine.connect() as conn:\n",
    "\n",
    "    sql_stmt = sqlalchemy.text(\n",
    "        \"\"\"\n",
    "        CREATE TABLE IF NOT EXISTS stations (\n",
    "            # columns regarding rides, assume each ride unique given no ride_id provided\n",
    "            stn_id\t\t\tBIGINT\t\t\tNOT NULL AUTO_INCREMENT,\n",
    "        \tstn_code \t    VARCHAR(255)\tNOT NULL,\n",
    "            stn_name        VARCHAR(255)\tNOT NULL,\n",
    "            stn_lat         DECIMAL(7,5)    NOT NULL,\n",
    "            stn_lon         DECIMAL(7,5)    NOT NULL,\n",
    "            company\t\t\tVARCHAR(255)\tNOT NULL,\n",
    "\n",
    "            # columns for data maintenance\n",
    "            data_source\t\tVARCHAR(255)\tNOT NULL,\n",
    "            date_added\t\tDATETIME \t\tNOT NULL DEFAULT CURRENT_TIMESTAMP,\n",
    "            flag\t\t\tVARCHAR(255),\n",
    "\n",
    "            # Each ride is unique\n",
    "            CONSTRAINT stn_uid UNIQUE (stn_id)\n",
    "            )    \n",
    "        \"\"\"\n",
    "    )\n",
    "\n",
    "    conn.execute(sql_stmt)"
   ]
  },
  {
   "cell_type": "code",
   "execution_count": null,
   "id": "00e47a5e-bf9a-42a8-9f51-9d4d6016688a",
   "metadata": {},
   "outputs": [],
   "source": [
    "From above, the rides data contains 6 columns or features:\n",
    "1. `start_date`: the datetime when a Bixi bicycle is checked out from a dock\n",
    "2. `start_station_code`: the docking station where the Bixi bicycles was checked out from\n",
    "3. `end_date`: the datetime when a Bixi bicycle is returned to a dock\n",
    "4. `end_station_code`: the docking station where the checked out bicycle was returned to\n",
    "6. `duration_sec`: the total time of the ride\n",
    "7. `is_member`: the membership status of the customer who used the Bixi bicycle"
   ]
  },
  {
   "cell_type": "code",
   "execution_count": 10,
   "id": "2bbc6cc0-669e-4e2d-a723-3b4db576da97",
   "metadata": {},
   "outputs": [],
   "source": [
    "df_ori = pd.read_csv('data/2021-donnees-ouvertes-464ae6/2021_donnees_ouvertes.csv')"
   ]
  },
  {
   "cell_type": "code",
   "execution_count": 4,
   "id": "f5345f8e-91fe-4e6c-9dd8-87386594ffa8",
   "metadata": {},
   "outputs": [
    {
     "data": {
      "text/html": [
       "<div>\n",
       "<style scoped>\n",
       "    .dataframe tbody tr th:only-of-type {\n",
       "        vertical-align: middle;\n",
       "    }\n",
       "\n",
       "    .dataframe tbody tr th {\n",
       "        vertical-align: top;\n",
       "    }\n",
       "\n",
       "    .dataframe thead th {\n",
       "        text-align: right;\n",
       "    }\n",
       "</style>\n",
       "<table border=\"1\" class=\"dataframe\">\n",
       "  <thead>\n",
       "    <tr style=\"text-align: right;\">\n",
       "      <th></th>\n",
       "      <th>start_date</th>\n",
       "      <th>emplacement_pk_start</th>\n",
       "      <th>end_date</th>\n",
       "      <th>emplacement_pk_end</th>\n",
       "      <th>duration_sec</th>\n",
       "      <th>is_member</th>\n",
       "    </tr>\n",
       "  </thead>\n",
       "  <tbody>\n",
       "    <tr>\n",
       "      <th>0</th>\n",
       "      <td>2021-06-29 17:46:28.653</td>\n",
       "      <td>10</td>\n",
       "      <td>2021-06-29 19:33:25.700</td>\n",
       "      <td>10</td>\n",
       "      <td>6417</td>\n",
       "      <td>0</td>\n",
       "    </tr>\n",
       "    <tr>\n",
       "      <th>1</th>\n",
       "      <td>2021-04-25 18:02:39.110</td>\n",
       "      <td>10</td>\n",
       "      <td>2021-04-25 18:13:26.139</td>\n",
       "      <td>188</td>\n",
       "      <td>647</td>\n",
       "      <td>0</td>\n",
       "    </tr>\n",
       "    <tr>\n",
       "      <th>2</th>\n",
       "      <td>2021-08-08 18:50:31.633</td>\n",
       "      <td>10</td>\n",
       "      <td>2021-08-08 18:58:57.585</td>\n",
       "      <td>778</td>\n",
       "      <td>505</td>\n",
       "      <td>1</td>\n",
       "    </tr>\n",
       "    <tr>\n",
       "      <th>3</th>\n",
       "      <td>2021-10-11 17:50:15.346</td>\n",
       "      <td>10</td>\n",
       "      <td>2021-10-11 18:25:31.726</td>\n",
       "      <td>504</td>\n",
       "      <td>2116</td>\n",
       "      <td>1</td>\n",
       "    </tr>\n",
       "    <tr>\n",
       "      <th>4</th>\n",
       "      <td>2021-09-10 15:51:58.050</td>\n",
       "      <td>10</td>\n",
       "      <td>2021-09-10 16:21:01.403</td>\n",
       "      <td>780</td>\n",
       "      <td>1743</td>\n",
       "      <td>1</td>\n",
       "    </tr>\n",
       "  </tbody>\n",
       "</table>\n",
       "</div>"
      ],
      "text/plain": [
       "                start_date  emplacement_pk_start                 end_date  \\\n",
       "0  2021-06-29 17:46:28.653                    10  2021-06-29 19:33:25.700   \n",
       "1  2021-04-25 18:02:39.110                    10  2021-04-25 18:13:26.139   \n",
       "2  2021-08-08 18:50:31.633                    10  2021-08-08 18:58:57.585   \n",
       "3  2021-10-11 17:50:15.346                    10  2021-10-11 18:25:31.726   \n",
       "4  2021-09-10 15:51:58.050                    10  2021-09-10 16:21:01.403   \n",
       "\n",
       "   emplacement_pk_end  duration_sec  is_member  \n",
       "0                  10          6417          0  \n",
       "1                 188           647          0  \n",
       "2                 778           505          1  \n",
       "3                 504          2116          1  \n",
       "4                 780          1743          1  "
      ]
     },
     "execution_count": 4,
     "metadata": {},
     "output_type": "execute_result"
    }
   ],
   "source": [
    "df_ori.head()"
   ]
  },
  {
   "cell_type": "code",
   "execution_count": 12,
   "id": "35970aa1-a9b4-41a7-ab87-fc952eb8922a",
   "metadata": {},
   "outputs": [],
   "source": [
    "df = pd.read_csv('data/20220109-donnees-ouvertes-519d43/202209_deplacements.csv'\n",
    "                )"
   ]
  },
  {
   "cell_type": "code",
   "execution_count": 13,
   "id": "1bd8f3ef-992f-4985-981f-bb692913f816",
   "metadata": {},
   "outputs": [
    {
     "data": {
      "text/plain": [
       "(1327125, 5)"
      ]
     },
     "execution_count": 13,
     "metadata": {},
     "output_type": "execute_result"
    }
   ],
   "source": [
    "df.shape"
   ]
  },
  {
   "cell_type": "code",
   "execution_count": null,
   "id": "dec75e15-5cca-49b4-97fa-990369b3ceca",
   "metadata": {},
   "outputs": [],
   "source": []
  },
  {
   "cell_type": "code",
   "execution_count": 14,
   "id": "e312d563-2740-4c90-9af2-4b6c20b04d99",
   "metadata": {},
   "outputs": [
    {
     "data": {
      "text/html": [
       "<div>\n",
       "<style scoped>\n",
       "    .dataframe tbody tr th:only-of-type {\n",
       "        vertical-align: middle;\n",
       "    }\n",
       "\n",
       "    .dataframe tbody tr th {\n",
       "        vertical-align: top;\n",
       "    }\n",
       "\n",
       "    .dataframe thead th {\n",
       "        text-align: right;\n",
       "    }\n",
       "</style>\n",
       "<table border=\"1\" class=\"dataframe\">\n",
       "  <thead>\n",
       "    <tr style=\"text-align: right;\">\n",
       "      <th></th>\n",
       "      <th>rental_id</th>\n",
       "      <th>start_date</th>\n",
       "      <th>emplacement_pk_start</th>\n",
       "      <th>end_date</th>\n",
       "      <th>emplacement_pk_end</th>\n",
       "    </tr>\n",
       "  </thead>\n",
       "  <tbody>\n",
       "    <tr>\n",
       "      <th>0</th>\n",
       "      <td>63511183</td>\n",
       "      <td>2022-09-30 19:11:19.006</td>\n",
       "      <td>9</td>\n",
       "      <td>2022-09-30 19:33:35.679</td>\n",
       "      <td>185</td>\n",
       "    </tr>\n",
       "    <tr>\n",
       "      <th>1</th>\n",
       "      <td>63479941</td>\n",
       "      <td>2022-09-30 10:29:43.032</td>\n",
       "      <td>9</td>\n",
       "      <td>2022-09-30 10:41:08.185</td>\n",
       "      <td>786</td>\n",
       "    </tr>\n",
       "    <tr>\n",
       "      <th>2</th>\n",
       "      <td>62442853</td>\n",
       "      <td>2022-09-08 16:47:31.962</td>\n",
       "      <td>9</td>\n",
       "      <td>2022-09-08 17:45:57.315</td>\n",
       "      <td>184</td>\n",
       "    </tr>\n",
       "    <tr>\n",
       "      <th>3</th>\n",
       "      <td>62640533</td>\n",
       "      <td>2022-09-11 18:03:13.712</td>\n",
       "      <td>9</td>\n",
       "      <td>2022-09-11 18:23:06.038</td>\n",
       "      <td>186</td>\n",
       "    </tr>\n",
       "    <tr>\n",
       "      <th>4</th>\n",
       "      <td>63479953</td>\n",
       "      <td>2022-09-30 10:30:03.428</td>\n",
       "      <td>9</td>\n",
       "      <td>2022-09-30 10:30:26.094</td>\n",
       "      <td>9</td>\n",
       "    </tr>\n",
       "  </tbody>\n",
       "</table>\n",
       "</div>"
      ],
      "text/plain": [
       "   rental_id               start_date  emplacement_pk_start  \\\n",
       "0   63511183  2022-09-30 19:11:19.006                     9   \n",
       "1   63479941  2022-09-30 10:29:43.032                     9   \n",
       "2   62442853  2022-09-08 16:47:31.962                     9   \n",
       "3   62640533  2022-09-11 18:03:13.712                     9   \n",
       "4   63479953  2022-09-30 10:30:03.428                     9   \n",
       "\n",
       "                  end_date  emplacement_pk_end  \n",
       "0  2022-09-30 19:33:35.679                 185  \n",
       "1  2022-09-30 10:41:08.185                 786  \n",
       "2  2022-09-08 17:45:57.315                 184  \n",
       "3  2022-09-11 18:23:06.038                 186  \n",
       "4  2022-09-30 10:30:26.094                   9  "
      ]
     },
     "execution_count": 14,
     "metadata": {},
     "output_type": "execute_result"
    }
   ],
   "source": [
    "df.head()"
   ]
  },
  {
   "cell_type": "code",
   "execution_count": 11,
   "id": "2f3ac311-0eed-4b99-bcad-819dbfbfa9bb",
   "metadata": {},
   "outputs": [
    {
     "ename": "ParserError",
     "evalue": "Too many columns specified: expected 6 and found 5",
     "output_type": "error",
     "traceback": [
      "\u001b[0;31m---------------------------------------------------------------------------\u001b[0m",
      "\u001b[0;31mParserError\u001b[0m                               Traceback (most recent call last)",
      "Cell \u001b[0;32mIn[11], line 1\u001b[0m\n\u001b[0;32m----> 1\u001b[0m df \u001b[38;5;241m=\u001b[39m \u001b[43mpd\u001b[49m\u001b[38;5;241;43m.\u001b[39;49m\u001b[43mread_csv\u001b[49m\u001b[43m(\u001b[49m\u001b[38;5;124;43m'\u001b[39;49m\u001b[38;5;124;43mdata/20220109-donnees-ouvertes-519d43/202209_deplacements.csv\u001b[39;49m\u001b[38;5;124;43m'\u001b[39;49m\u001b[43m,\u001b[49m\n\u001b[1;32m      2\u001b[0m \u001b[43m                 \u001b[49m\u001b[43musecols\u001b[49m\u001b[43m \u001b[49m\u001b[38;5;241;43m=\u001b[39;49m\u001b[43m \u001b[49m\u001b[43m[\u001b[49m\u001b[38;5;241;43m0\u001b[39;49m\u001b[43m,\u001b[49m\u001b[38;5;241;43m1\u001b[39;49m\u001b[43m,\u001b[49m\u001b[38;5;241;43m2\u001b[39;49m\u001b[43m,\u001b[49m\u001b[38;5;241;43m3\u001b[39;49m\u001b[43m,\u001b[49m\u001b[38;5;241;43m4\u001b[39;49m\u001b[43m,\u001b[49m\u001b[38;5;241;43m5\u001b[39;49m\u001b[43m]\u001b[49m\u001b[43m,\u001b[49m\n\u001b[1;32m      3\u001b[0m \u001b[43m                 \u001b[49m\u001b[43mheader\u001b[49m\u001b[43m \u001b[49m\u001b[38;5;241;43m=\u001b[39;49m\u001b[43m \u001b[49m\u001b[38;5;241;43m0\u001b[39;49m\u001b[43m,\u001b[49m\n\u001b[1;32m      4\u001b[0m \u001b[43m                 \u001b[49m\u001b[43mnames\u001b[49m\u001b[43m \u001b[49m\u001b[38;5;241;43m=\u001b[39;49m\u001b[43m \u001b[49m\u001b[43m[\u001b[49m\n\u001b[1;32m      5\u001b[0m \u001b[43m                         \u001b[49m\u001b[38;5;124;43m'\u001b[39;49m\u001b[38;5;124;43mstart_date\u001b[39;49m\u001b[38;5;124;43m'\u001b[39;49m\u001b[43m,\u001b[49m\n\u001b[1;32m      6\u001b[0m \u001b[43m                        \u001b[49m\u001b[38;5;124;43m'\u001b[39;49m\u001b[38;5;124;43mstart_station_code\u001b[39;49m\u001b[38;5;124;43m'\u001b[39;49m\u001b[43m,\u001b[49m\n\u001b[1;32m      7\u001b[0m \u001b[43m                        \u001b[49m\u001b[38;5;124;43m'\u001b[39;49m\u001b[38;5;124;43mend_date\u001b[39;49m\u001b[38;5;124;43m'\u001b[39;49m\u001b[43m,\u001b[49m\n\u001b[1;32m      8\u001b[0m \u001b[43m                        \u001b[49m\u001b[38;5;124;43m'\u001b[39;49m\u001b[38;5;124;43mend_station_code\u001b[39;49m\u001b[38;5;124;43m'\u001b[39;49m\u001b[43m,\u001b[49m\n\u001b[1;32m      9\u001b[0m \u001b[43m                        \u001b[49m\u001b[38;5;124;43m'\u001b[39;49m\u001b[38;5;124;43mduration_sec\u001b[39;49m\u001b[38;5;124;43m'\u001b[39;49m\u001b[43m,\u001b[49m\n\u001b[1;32m     10\u001b[0m \u001b[43m                        \u001b[49m\u001b[38;5;124;43m'\u001b[39;49m\u001b[38;5;124;43mis_member\u001b[39;49m\u001b[38;5;124;43m'\u001b[39;49m\n\u001b[1;32m     11\u001b[0m \u001b[43m                 \u001b[49m\u001b[43m]\u001b[49m\u001b[43m,\u001b[49m\n\u001b[1;32m     12\u001b[0m \u001b[43m                 \u001b[49m\u001b[43mskiprows\u001b[49m\u001b[38;5;241;43m=\u001b[39;49m\u001b[43m \u001b[49m\u001b[38;5;241;43m1\u001b[39;49m\n\u001b[1;32m     13\u001b[0m \u001b[43m                 \u001b[49m\n\u001b[1;32m     14\u001b[0m \u001b[43m                \u001b[49m\u001b[43m)\u001b[49m\n",
      "File \u001b[0;32m/opt/conda/lib/python3.11/site-packages/pandas/io/parsers/readers.py:912\u001b[0m, in \u001b[0;36mread_csv\u001b[0;34m(filepath_or_buffer, sep, delimiter, header, names, index_col, usecols, dtype, engine, converters, true_values, false_values, skipinitialspace, skiprows, skipfooter, nrows, na_values, keep_default_na, na_filter, verbose, skip_blank_lines, parse_dates, infer_datetime_format, keep_date_col, date_parser, date_format, dayfirst, cache_dates, iterator, chunksize, compression, thousands, decimal, lineterminator, quotechar, quoting, doublequote, escapechar, comment, encoding, encoding_errors, dialect, on_bad_lines, delim_whitespace, low_memory, memory_map, float_precision, storage_options, dtype_backend)\u001b[0m\n\u001b[1;32m    899\u001b[0m kwds_defaults \u001b[38;5;241m=\u001b[39m _refine_defaults_read(\n\u001b[1;32m    900\u001b[0m     dialect,\n\u001b[1;32m    901\u001b[0m     delimiter,\n\u001b[0;32m   (...)\u001b[0m\n\u001b[1;32m    908\u001b[0m     dtype_backend\u001b[38;5;241m=\u001b[39mdtype_backend,\n\u001b[1;32m    909\u001b[0m )\n\u001b[1;32m    910\u001b[0m kwds\u001b[38;5;241m.\u001b[39mupdate(kwds_defaults)\n\u001b[0;32m--> 912\u001b[0m \u001b[38;5;28;01mreturn\u001b[39;00m \u001b[43m_read\u001b[49m\u001b[43m(\u001b[49m\u001b[43mfilepath_or_buffer\u001b[49m\u001b[43m,\u001b[49m\u001b[43m \u001b[49m\u001b[43mkwds\u001b[49m\u001b[43m)\u001b[49m\n",
      "File \u001b[0;32m/opt/conda/lib/python3.11/site-packages/pandas/io/parsers/readers.py:583\u001b[0m, in \u001b[0;36m_read\u001b[0;34m(filepath_or_buffer, kwds)\u001b[0m\n\u001b[1;32m    580\u001b[0m     \u001b[38;5;28;01mreturn\u001b[39;00m parser\n\u001b[1;32m    582\u001b[0m \u001b[38;5;28;01mwith\u001b[39;00m parser:\n\u001b[0;32m--> 583\u001b[0m     \u001b[38;5;28;01mreturn\u001b[39;00m \u001b[43mparser\u001b[49m\u001b[38;5;241;43m.\u001b[39;49m\u001b[43mread\u001b[49m\u001b[43m(\u001b[49m\u001b[43mnrows\u001b[49m\u001b[43m)\u001b[49m\n",
      "File \u001b[0;32m/opt/conda/lib/python3.11/site-packages/pandas/io/parsers/readers.py:1704\u001b[0m, in \u001b[0;36mTextFileReader.read\u001b[0;34m(self, nrows)\u001b[0m\n\u001b[1;32m   1697\u001b[0m nrows \u001b[38;5;241m=\u001b[39m validate_integer(\u001b[38;5;124m\"\u001b[39m\u001b[38;5;124mnrows\u001b[39m\u001b[38;5;124m\"\u001b[39m, nrows)\n\u001b[1;32m   1698\u001b[0m \u001b[38;5;28;01mtry\u001b[39;00m:\n\u001b[1;32m   1699\u001b[0m     \u001b[38;5;66;03m# error: \"ParserBase\" has no attribute \"read\"\u001b[39;00m\n\u001b[1;32m   1700\u001b[0m     (\n\u001b[1;32m   1701\u001b[0m         index,\n\u001b[1;32m   1702\u001b[0m         columns,\n\u001b[1;32m   1703\u001b[0m         col_dict,\n\u001b[0;32m-> 1704\u001b[0m     ) \u001b[38;5;241m=\u001b[39m \u001b[38;5;28;43mself\u001b[39;49m\u001b[38;5;241;43m.\u001b[39;49m\u001b[43m_engine\u001b[49m\u001b[38;5;241;43m.\u001b[39;49m\u001b[43mread\u001b[49m\u001b[43m(\u001b[49m\u001b[43m  \u001b[49m\u001b[38;5;66;43;03m# type: ignore[attr-defined]\u001b[39;49;00m\n\u001b[1;32m   1705\u001b[0m \u001b[43m        \u001b[49m\u001b[43mnrows\u001b[49m\n\u001b[1;32m   1706\u001b[0m \u001b[43m    \u001b[49m\u001b[43m)\u001b[49m\n\u001b[1;32m   1707\u001b[0m \u001b[38;5;28;01mexcept\u001b[39;00m \u001b[38;5;167;01mException\u001b[39;00m:\n\u001b[1;32m   1708\u001b[0m     \u001b[38;5;28mself\u001b[39m\u001b[38;5;241m.\u001b[39mclose()\n",
      "File \u001b[0;32m/opt/conda/lib/python3.11/site-packages/pandas/io/parsers/c_parser_wrapper.py:234\u001b[0m, in \u001b[0;36mCParserWrapper.read\u001b[0;34m(self, nrows)\u001b[0m\n\u001b[1;32m    232\u001b[0m \u001b[38;5;28;01mtry\u001b[39;00m:\n\u001b[1;32m    233\u001b[0m     \u001b[38;5;28;01mif\u001b[39;00m \u001b[38;5;28mself\u001b[39m\u001b[38;5;241m.\u001b[39mlow_memory:\n\u001b[0;32m--> 234\u001b[0m         chunks \u001b[38;5;241m=\u001b[39m \u001b[38;5;28;43mself\u001b[39;49m\u001b[38;5;241;43m.\u001b[39;49m\u001b[43m_reader\u001b[49m\u001b[38;5;241;43m.\u001b[39;49m\u001b[43mread_low_memory\u001b[49m\u001b[43m(\u001b[49m\u001b[43mnrows\u001b[49m\u001b[43m)\u001b[49m\n\u001b[1;32m    235\u001b[0m         \u001b[38;5;66;03m# destructive to chunks\u001b[39;00m\n\u001b[1;32m    236\u001b[0m         data \u001b[38;5;241m=\u001b[39m _concatenate_chunks(chunks)\n",
      "File \u001b[0;32m/opt/conda/lib/python3.11/site-packages/pandas/_libs/parsers.pyx:812\u001b[0m, in \u001b[0;36mpandas._libs.parsers.TextReader.read_low_memory\u001b[0;34m()\u001b[0m\n",
      "File \u001b[0;32m/opt/conda/lib/python3.11/site-packages/pandas/_libs/parsers.pyx:889\u001b[0m, in \u001b[0;36mpandas._libs.parsers.TextReader._read_rows\u001b[0;34m()\u001b[0m\n",
      "File \u001b[0;32m/opt/conda/lib/python3.11/site-packages/pandas/_libs/parsers.pyx:951\u001b[0m, in \u001b[0;36mpandas._libs.parsers.TextReader._convert_column_data\u001b[0;34m()\u001b[0m\n",
      "\u001b[0;31mParserError\u001b[0m: Too many columns specified: expected 6 and found 5"
     ]
    }
   ],
   "source": [
    "df = pd.read_csv('data/20220109-donnees-ouvertes-519d43/202209_deplacements.csv',\n",
    "                 usecols = [0,1,2,3,4,5],\n",
    "                 header = 0,\n",
    "                 names = [\n",
    "                         'start_date',\n",
    "                        'start_station_code',\n",
    "                        'end_date',\n",
    "                        'end_station_code',\n",
    "                        'duration_sec',\n",
    "                        'is_member'\n",
    "                 ],\n",
    "                 skiprows= 1\n",
    "                 \n",
    "                )"
   ]
  },
  {
   "cell_type": "code",
   "execution_count": 9,
   "id": "df115f6e-3bcf-493c-a9ee-638c2040a56b",
   "metadata": {},
   "outputs": [
    {
     "data": {
      "text/html": [
       "<div>\n",
       "<style scoped>\n",
       "    .dataframe tbody tr th:only-of-type {\n",
       "        vertical-align: middle;\n",
       "    }\n",
       "\n",
       "    .dataframe tbody tr th {\n",
       "        vertical-align: top;\n",
       "    }\n",
       "\n",
       "    .dataframe thead th {\n",
       "        text-align: right;\n",
       "    }\n",
       "</style>\n",
       "<table border=\"1\" class=\"dataframe\">\n",
       "  <thead>\n",
       "    <tr style=\"text-align: right;\">\n",
       "      <th></th>\n",
       "      <th>start_date</th>\n",
       "      <th>start_station_code</th>\n",
       "      <th>end_date</th>\n",
       "      <th>end_station_code</th>\n",
       "      <th>duration_sec</th>\n",
       "      <th>is_member</th>\n",
       "    </tr>\n",
       "  </thead>\n",
       "  <tbody>\n",
       "    <tr>\n",
       "      <th>0</th>\n",
       "      <td>2021-04-25 18:02:39.110</td>\n",
       "      <td>10</td>\n",
       "      <td>2021-04-25 18:13:26.139</td>\n",
       "      <td>188</td>\n",
       "      <td>647</td>\n",
       "      <td>0</td>\n",
       "    </tr>\n",
       "    <tr>\n",
       "      <th>1</th>\n",
       "      <td>2021-08-08 18:50:31.633</td>\n",
       "      <td>10</td>\n",
       "      <td>2021-08-08 18:58:57.585</td>\n",
       "      <td>778</td>\n",
       "      <td>505</td>\n",
       "      <td>1</td>\n",
       "    </tr>\n",
       "    <tr>\n",
       "      <th>2</th>\n",
       "      <td>2021-10-11 17:50:15.346</td>\n",
       "      <td>10</td>\n",
       "      <td>2021-10-11 18:25:31.726</td>\n",
       "      <td>504</td>\n",
       "      <td>2116</td>\n",
       "      <td>1</td>\n",
       "    </tr>\n",
       "    <tr>\n",
       "      <th>3</th>\n",
       "      <td>2021-09-10 15:51:58.050</td>\n",
       "      <td>10</td>\n",
       "      <td>2021-09-10 16:21:01.403</td>\n",
       "      <td>780</td>\n",
       "      <td>1743</td>\n",
       "      <td>1</td>\n",
       "    </tr>\n",
       "    <tr>\n",
       "      <th>4</th>\n",
       "      <td>2021-05-21 09:08:02.506</td>\n",
       "      <td>10</td>\n",
       "      <td>2021-05-21 09:29:43.070</td>\n",
       "      <td>185</td>\n",
       "      <td>1300</td>\n",
       "      <td>1</td>\n",
       "    </tr>\n",
       "  </tbody>\n",
       "</table>\n",
       "</div>"
      ],
      "text/plain": [
       "                start_date  start_station_code                 end_date  \\\n",
       "0  2021-04-25 18:02:39.110                  10  2021-04-25 18:13:26.139   \n",
       "1  2021-08-08 18:50:31.633                  10  2021-08-08 18:58:57.585   \n",
       "2  2021-10-11 17:50:15.346                  10  2021-10-11 18:25:31.726   \n",
       "3  2021-09-10 15:51:58.050                  10  2021-09-10 16:21:01.403   \n",
       "4  2021-05-21 09:08:02.506                  10  2021-05-21 09:29:43.070   \n",
       "\n",
       "   end_station_code  duration_sec  is_member  \n",
       "0               188           647          0  \n",
       "1               778           505          1  \n",
       "2               504          2116          1  \n",
       "3               780          1743          1  \n",
       "4               185          1300          1  "
      ]
     },
     "execution_count": 9,
     "metadata": {},
     "output_type": "execute_result"
    }
   ],
   "source": [
    "df.head()"
   ]
  },
  {
   "cell_type": "code",
   "execution_count": 15,
   "id": "0cfef146-dcf6-425e-8a6a-0b8582839725",
   "metadata": {},
   "outputs": [
    {
     "data": {
      "text/plain": [
       "18446744073709551615"
      ]
     },
     "execution_count": 15,
     "metadata": {},
     "output_type": "execute_result"
    }
   ],
   "source": [
    "2 ** 64 -1"
   ]
  },
  {
   "cell_type": "code",
   "execution_count": null,
   "id": "fca26f12-5bb9-4110-a8ea-735e8af6c621",
   "metadata": {},
   "outputs": [],
   "source": []
  }
 ],
 "metadata": {
  "kernelspec": {
   "display_name": "Python 3 (ipykernel)",
   "language": "python",
   "name": "python3"
  },
  "language_info": {
   "codemirror_mode": {
    "name": "ipython",
    "version": 3
   },
   "file_extension": ".py",
   "mimetype": "text/x-python",
   "name": "python",
   "nbconvert_exporter": "python",
   "pygments_lexer": "ipython3",
   "version": "3.11.4"
  }
 },
 "nbformat": 4,
 "nbformat_minor": 5
}
